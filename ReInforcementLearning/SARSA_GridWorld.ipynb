{
 "cells": [
  {
   "cell_type": "code",
   "execution_count": 1,
   "metadata": {},
   "outputs": [],
   "source": [
    "import numpy as np\n",
    "\n",
    "# GridWorld environment\n",
    "class GridWorld:\n",
    "    def __init__(self):\n",
    "        self.grid = np.zeros((4, 4))  # 4x4 grid\n",
    "        self.goal = (3, 3)  # Goal state\n",
    "        self.obstacles = [(1, 1), (2, 2)]  # Obstacles\n",
    "        self.state = (0, 0)  # Start state\n",
    "\n",
    "    def reset(self):\n",
    "        self.state = (0, 0)\n",
    "        return self.state\n",
    "\n",
    "    def step(self, action):\n",
    "        x, y = self.state\n",
    "        if action == 0:  # Up\n",
    "            x = max(x - 1, 0)\n",
    "        elif action == 1:  # Down\n",
    "            x = min(x + 1, 3)\n",
    "        elif action == 2:  # Left\n",
    "            y = max(y - 1, 0)\n",
    "        elif action == 3:  # Right\n",
    "            y = min(y + 1, 3)\n",
    "\n",
    "        # Check for obstacles\n",
    "        if (x, y) in self.obstacles:\n",
    "            return self.state, -1, False  # Stay in the same state, negative reward\n",
    "\n",
    "        self.state = (x, y)\n",
    "\n",
    "        # Check if goal is reached\n",
    "        if self.state == self.goal:\n",
    "            return self.state, 1, True  # Positive reward, episode ends\n",
    "        else:\n",
    "            return self.state, -0.1, False  # Small negative reward for each step"
   ]
  },
  {
   "cell_type": "code",
   "execution_count": 2,
   "metadata": {},
   "outputs": [],
   "source": [
    "# SARSA algorithm\n",
    "def sarsa(env, episodes=1000, alpha=0.1, gamma=0.9, epsilon=0.1):\n",
    "    # Initialize Q-table\n",
    "    Q = np.zeros((4, 4, 4))  # 4x4 grid, 4 actions\n",
    "\n",
    "    for episode in range(episodes):\n",
    "        state = env.reset()\n",
    "        action = epsilon_greedy(Q, state, epsilon)\n",
    "\n",
    "        done = False\n",
    "        while not done:\n",
    "            next_state, reward, done = env.step(action)\n",
    "            next_action = epsilon_greedy(Q, next_state, epsilon)\n",
    "\n",
    "            # Update Q-value\n",
    "            Q[state[0], state[1], action] += alpha * (\n",
    "                reward + gamma * Q[next_state[0], next_state[1], next_action] - Q[state[0], state[1], action]\n",
    "            )\n",
    "\n",
    "            state, action = next_state, next_action\n",
    "\n",
    "    return Q\n",
    "\n",
    "# Epsilon-greedy policy\n",
    "def epsilon_greedy(Q, state, epsilon):\n",
    "    if np.random.rand() < epsilon:\n",
    "        return np.random.randint(4)  # Random action\n",
    "    else:\n",
    "        return np.argmax(Q[state[0], state[1]])  # Greedy action"
   ]
  },
  {
   "cell_type": "code",
   "execution_count": 3,
   "metadata": {},
   "outputs": [
    {
     "name": "stdout",
     "output_type": "stream",
     "text": [
      "Learned Q-values:\n",
      "[[[-7.58203927e-02 -2.21332697e-01 -8.03103998e-02  1.01758607e-01]\n",
      "  [ 1.85416259e-02 -7.94668587e-01 -9.18628402e-02  2.63921212e-01]\n",
      "  [ 2.14710696e-01  3.35895095e-01  4.58664887e-02  4.28536254e-01]\n",
      "  [ 3.42520323e-01  6.04396907e-01  1.71958241e-01  3.59684445e-01]]\n",
      "\n",
      " [[-1.76011780e-01  7.63881071e-03 -1.76046386e-01 -6.12182931e-01]\n",
      "  [ 0.00000000e+00  0.00000000e+00  0.00000000e+00  0.00000000e+00]\n",
      "  [ 4.04524455e-04 -2.75168144e-01 -3.76079459e-01  5.74770617e-01]\n",
      "  [ 3.21126167e-01  7.97530760e-01  2.33385769e-01  4.72334521e-01]]\n",
      "\n",
      " [[-1.08612768e-01 -9.78765048e-02 -1.15383760e-01  2.11106793e-01]\n",
      "  [-2.35828447e-01  4.43081162e-01 -5.69797899e-02 -2.58444638e-01]\n",
      "  [ 0.00000000e+00  0.00000000e+00  0.00000000e+00  0.00000000e+00]\n",
      "  [ 4.49299676e-01  1.00000000e+00 -1.27816915e-01  6.88258539e-01]]\n",
      "\n",
      " [[-6.56779679e-02 -5.59311490e-02 -5.60543500e-02  6.21589966e-02]\n",
      "  [ 7.95661052e-03  4.90866746e-02 -2.15200000e-02  6.36621323e-01]\n",
      "  [-1.90000000e-01 -1.90000000e-02  1.49740328e-01  9.96242898e-01]\n",
      "  [ 0.00000000e+00  0.00000000e+00  0.00000000e+00  0.00000000e+00]]]\n"
     ]
    }
   ],
   "source": [
    "# Create the environment\n",
    "env = GridWorld()\n",
    "\n",
    "# Train the agent using SARSA\n",
    "Q = sarsa(env)\n",
    "\n",
    "# Display the learned Q-values\n",
    "print(\"Learned Q-values:\")\n",
    "print(Q)"
   ]
  }
 ],
 "metadata": {
  "kernelspec": {
   "display_name": "llms",
   "language": "python",
   "name": "python3"
  },
  "language_info": {
   "codemirror_mode": {
    "name": "ipython",
    "version": 3
   },
   "file_extension": ".py",
   "mimetype": "text/x-python",
   "name": "python",
   "nbconvert_exporter": "python",
   "pygments_lexer": "ipython3",
   "version": "3.11.11"
  }
 },
 "nbformat": 4,
 "nbformat_minor": 2
}

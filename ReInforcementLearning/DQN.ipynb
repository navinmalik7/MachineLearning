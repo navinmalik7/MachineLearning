{
 "cells": [
  {
   "cell_type": "markdown",
   "metadata": {},
   "source": [
    "Step 1: Import Required Libraries"
   ]
  },
  {
   "cell_type": "code",
   "execution_count": null,
   "metadata": {},
   "outputs": [],
   "source": [
    "import numpy as np\n",
    "import random\n",
    "import torch\n",
    "import torch.nn as nn\n",
    "import torch.optim as optim\n",
    "import matplotlib.pyplot as plt"
   ]
  },
  {
   "cell_type": "markdown",
   "metadata": {},
   "source": [
    "Step 2: Define the Environment"
   ]
  },
  {
   "cell_type": "code",
   "execution_count": null,
   "metadata": {},
   "outputs": [],
   "source": [
    "# Grid Size\n",
    "grid_size = 5\n",
    "rewards = np.full((grid_size, grid_size), -1)  # Default reward -1\n",
    "rewards[4, 4] = 100  # Goal reward\n",
    "\n",
    "# Actions: 0 = Up, 1 = Down, 2 = Left, 3 = Right\n",
    "actions = {0: (-1, 0), 1: (1, 0), 2: (0, -1), 3: (0, 1)}\n",
    "\n",
    "# Function to check if move is valid\n",
    "def is_valid_move(x, y):\n",
    "    return 0 <= x < grid_size and 0 <= y < grid_size"
   ]
  },
  {
   "cell_type": "markdown",
   "metadata": {},
   "source": [
    "Step 3: Define the DQN Model"
   ]
  },
  {
   "cell_type": "code",
   "execution_count": null,
   "metadata": {},
   "outputs": [],
   "source": [
    "class DQN(nn.Module):\n",
    "    def __init__(self, input_dim, output_dim):\n",
    "        super(DQN, self).__init__()\n",
    "        self.fc1 = nn.Linear(input_dim, 24)\n",
    "        self.fc2 = nn.Linear(24, 24)\n",
    "        self.fc3 = nn.Linear(24, output_dim)\n",
    "\n",
    "    def forward(self, x):\n",
    "        x = torch.relu(self.fc1(x))\n",
    "        x = torch.relu(self.fc2(x))\n",
    "        x = self.fc3(x)\n",
    "        return x"
   ]
  },
  {
   "cell_type": "markdown",
   "metadata": {},
   "source": [
    "Step 4: Define the Training Loop"
   ]
  },
  {
   "cell_type": "code",
   "execution_count": null,
   "metadata": {},
   "outputs": [],
   "source": [
    "# DQN Parameters\n",
    "alpha = 0.1  # Learning rate\n",
    "gamma = 0.9  # Discount factor\n",
    "epsilon = 0.1  # Exploration rate\n",
    "episodes = 500  # Training iterations\n",
    "input_dim = grid_size * grid_size  # Input dimension\n",
    "output_dim = len(actions)  # Output dimension\n",
    "\n",
    "# Initialize DQN\n",
    "dqn = DQN(input_dim, output_dim)\n",
    "optimizer = optim.Adam(dqn.parameters(), lr=alpha)\n",
    "criterion = nn.MSELoss()\n",
    "\n",
    "for episode in range(episodes):\n",
    "    x, y = 0, 0  # Start position\n",
    "    state = np.zeros((grid_size, grid_size))\n",
    "    state[x, y] = 1\n",
    "    state = torch.tensor(state.flatten(), dtype=torch.float32)\n",
    "\n",
    "    while (x, y) != (4, 4):  # Until goal is reached\n",
    "        if random.uniform(0, 1) < epsilon:\n",
    "            action = random.choice(list(actions.keys()))\n",
    "        else:\n",
    "            with torch.no_grad():\n",
    "                action = torch.argmax(dqn(state)).item()\n",
    "\n",
    "        dx, dy = actions[action]\n",
    "        new_x, new_y = x + dx, y + dy\n",
    "\n",
    "        if is_valid_move(new_x, new_y):\n",
    "            reward = rewards[new_x, new_y]\n",
    "            next_state = np.zeros((grid_size, grid_size))\n",
    "            next_state[new_x, new_y] = 1\n",
    "            next_state = torch.tensor(next_state.flatten(), dtype=torch.float32)\n",
    "\n",
    "            with torch.no_grad():\n",
    "                target = reward + gamma * torch.max(dqn(next_state))\n",
    "            output = dqn(state)[action]\n",
    "            loss = criterion(output, target)\n",
    "\n",
    "            optimizer.zero_grad()\n",
    "            loss.backward()\n",
    "            optimizer.step()\n",
    "\n",
    "            state = next_state\n",
    "            x, y = new_x, new_y"
   ]
  },
  {
   "cell_type": "markdown",
   "metadata": {},
   "source": [
    "Step 5: Visualize the Learned Policy"
   ]
  },
  {
   "cell_type": "code",
   "execution_count": null,
   "metadata": {},
   "outputs": [
    {
     "data": {
      "image/png": "[encoded data removed]",
      "text/plain": [
       "<Figure size 640x480 with 2 Axes>"
      ]
     },
     "metadata": {},
     "output_type": "display_data"
    }
   ],
   "source": [
    "q_values = np.zeros((grid_size, grid_size, output_dim))\n",
    "for i in range(grid_size):\n",
    "    for j in range(grid_size):\n",
    "        state = np.zeros((grid_size, grid_size))\n",
    "        state[i, j] = 1\n",
    "        state = torch.tensor(state.flatten(), dtype=torch.float32)\n",
    "        q_values[i, j] = dqn(state).detach().numpy()\n",
    "\n",
    "plt.imshow(np.max(q_values, axis=2), cmap=\"coolwarm\", interpolation=\"nearest\")\n",
    "plt.colorbar(label=\"Q-Value Strength\")\n",
    "plt.title(\"DQN Q-Table Heatmap (Learned Policy)\")\n",
    "plt.show()"
   ]
  },
  {
   "cell_type": "markdown",
   "metadata": {},
   "source": [
    "A heatmap showing how well the agent has learned to navigate to the goal!"
   ]
  }
 ],
 "metadata": {
  "kernelspec": {
   "display_name": "llms",
   "language": "python",
   "name": "python3"
  },
  "language_info": {
   "codemirror_mode": {
    "name": "ipython",
    "version": 3
   },
   "file_extension": ".py",
   "mimetype": "text/x-python",
   "name": "python",
   "nbconvert_exporter": "python",
   "pygments_lexer": "ipython3",
   "version": "3.11.11"
  }
 },
 "nbformat": 4,
 "nbformat_minor": 2
}

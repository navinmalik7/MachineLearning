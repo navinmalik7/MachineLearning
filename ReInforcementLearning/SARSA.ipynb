{
 "cells": [
  {
   "cell_type": "markdown",
   "metadata": {},
   "source": [
    "Step 1: Import Required Libraries"
   ]
  },
  {
   "cell_type": "code",
   "execution_count": null,
   "metadata": {},
   "outputs": [],
   "source": [
    "import numpy as np\n",
    "import random\n",
    "import matplotlib.pyplot as plt"
   ]
  },
  {
   "cell_type": "markdown",
   "metadata": {},
   "source": [
    "Step 2: Define the Environment"
   ]
  },
  {
   "cell_type": "code",
   "execution_count": null,
   "metadata": {},
   "outputs": [],
   "source": [
    "# Grid Size\n",
    "grid_size = 5\n",
    "q_table = np.zeros((grid_size, grid_size, 4))  # Q-values for 4 actions\n",
    "\n",
    "# Reward Table\n",
    "rewards = np.full((grid_size, grid_size), -1)  # Default reward -1\n",
    "rewards[4, 4] = 100  # Goal reward\n",
    "\n",
    "# Actions: 0 = Up, 1 = Down, 2 = Left, 3 = Right\n",
    "actions = {0: (-1, 0), 1: (1, 0), 2: (0, -1), 3: (0, 1)}\n",
    "\n",
    "# Function to check if move is valid\n",
    "def is_valid_move(x, y):\n",
    "    return 0 <= x < grid_size and 0 <= y < grid_size"
   ]
  },
  {
   "cell_type": "markdown",
   "metadata": {},
   "source": [
    "Step 3: Define SARSA Algorithm"
   ]
  },
  {
   "cell_type": "code",
   "execution_count": null,
   "metadata": {},
   "outputs": [],
   "source": [
    "# SARSA Parameters\n",
    "alpha = 0.1  # Learning rate\n",
    "gamma = 0.9  # Discount factor\n",
    "epsilon = 0.1  # Exploration rate\n",
    "episodes = 500  # Training iterations\n",
    "\n",
    "for episode in range(episodes):\n",
    "    x, y = 0, 0  # Start position\n",
    "    action = np.random.choice(list(actions.keys()))  # Initial action\n",
    "\n",
    "    while (x, y) != (4, 4):  # Until goal is reached\n",
    "        dx, dy = actions[action]\n",
    "        new_x, new_y = x + dx, y + dy\n",
    "        \n",
    "        if is_valid_move(new_x, new_y):\n",
    "            reward = rewards[new_x, new_y]\n",
    "            next_action = np.random.choice(list(actions.keys())) if random.uniform(0, 1) < epsilon else np.argmax(q_table[new_x, new_y])\n",
    "\n",
    "            # SARSA Q-Update Formula\n",
    "            q_table[x, y, action] = q_table[x, y, action] + alpha * (reward + gamma * q_table[new_x, new_y, next_action] - q_table[x, y, action])\n",
    "\n",
    "            x, y = new_x, new_y\n",
    "            action = next_action  # Update action\n"
   ]
  },
  {
   "cell_type": "markdown",
   "metadata": {},
   "source": [
    "Step 4: Visualize the Learned Policy"
   ]
  },
  {
   "cell_type": "code",
   "execution_count": null,
   "metadata": {},
   "outputs": [],
   "source": [
    "plt.imshow(np.max(q_table, axis=2), cmap=\"coolwarm\", interpolation=\"nearest\")\n",
    "plt.colorbar(label=\"Q-Value Strength\")\n",
    "plt.title(\"SARSA Q-Table Heatmap (Learned Policy)\")\n",
    "plt.show()"
   ]
  },
  {
   "cell_type": "markdown",
   "metadata": {},
   "source": [
    "A heatmap showing how well the agent has learned to navigate to the goal!"
   ]
  }
 ],
 "metadata": {
  "kernelspec": {
   "display_name": "llms",
   "language": "python",
   "name": "python3"
  },
  "language_info": {
   "codemirror_mode": {
    "name": "ipython",
    "version": 3
   },
   "file_extension": ".py",
   "mimetype": "text/x-python",
   "name": "python",
   "nbconvert_exporter": "python",
   "pygments_lexer": "ipython3",
   "version": "3.11.11"
  }
 },
 "nbformat": 4,
 "nbformat_minor": 2
}
